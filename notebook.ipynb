{
 "cells": [
  {
   "cell_type": "markdown",
   "metadata": {},
   "source": [
    "---\n",
    "title: \"MNIST Classification on Raspberry Pi pico\"\n",
    "author: \"Nils Poethkow\"\n",
    "---"
   ]
  },
  {
   "cell_type": "code",
   "execution_count": 46,
   "metadata": {},
   "outputs": [],
   "source": [
    "import tensorflow as tf\n",
    "from tensorflow import keras\n",
    "from tensorflow.keras.models import load_model\n",
    "import matplotlib.pyplot as plt\n",
    "import numpy as np\n",
    "\n",
    "mnist = tf.keras.datasets.mnist\n",
    "(x_train, y_train) , (x_test, y_test) = mnist.load_data()\n",
    "x_train = x_train/255.0\n",
    "x_test = x_test/255.0"
   ]
  },
  {
   "cell_type": "code",
   "execution_count": 27,
   "metadata": {},
   "outputs": [],
   "source": [
    "from IPython.display import clear_output\n",
    "class PlotLosses(keras.callbacks.Callback):\n",
    "    def on_train_begin(self, logs={}):\n",
    "        self.i = 0\n",
    "        self.x = []\n",
    "        self.losses = []\n",
    "        self.val_losses = []\n",
    "        \n",
    "        self.fig = plt.figure()\n",
    "        \n",
    "        self.logs = []\n",
    "\n",
    "    def on_epoch_end(self, epoch, logs={}):\n",
    "        \n",
    "        self.logs.append(logs)\n",
    "        self.x.append(self.i)\n",
    "        self.losses.append(logs.get('loss'))\n",
    "        self.val_losses.append(logs.get('val_loss'))\n",
    "        self.i += 1\n",
    "        \n",
    "        clear_output(wait=True)\n",
    "        plt.plot(self.x, self.losses, label=\"loss\")\n",
    "        plt.plot(self.x, self.val_losses, label=\"val_loss\")\n",
    "        plt.xlabel(\"Epochs\")\n",
    "        plt.ylabel(\"Loss\")\n",
    "        plt.legend()\n",
    "        plt.show()\n",
    "        \n",
    "plot_losses = PlotLosses()"
   ]
  },
  {
   "cell_type": "markdown",
   "metadata": {},
   "source": [
    "Get models and further enhance them for the use on Raspberry Pi Pico. "
   ]
  },
  {
   "cell_type": "markdown",
   "metadata": {},
   "source": [
    "Quantization the model so it works with values from 1 to 255. It reduces the memory usage and exallerates the inference <br> Post training quantization."
   ]
  },
  {
   "cell_type": "markdown",
   "metadata": {},
   "source": [
    "## Convert Trained Tensorflow models into Tensorflow LiteRT format"
   ]
  },
  {
   "cell_type": "markdown",
   "metadata": {},
   "source": [
    "**Workflow**:\n",
    "1. Load trained model from a \".keras\" file\n",
    "2. Convert it with Quantization to a Tensorflow LiteRT model and save it in a \".tflite\" file\n",
    "3. Convert \".tflite\" to c-type array using this command: \"xxd -i model.tflite > model_data.cc\"\n",
    "4. Copy Data into \"mnist_model_data.cpp\" file\n",
    "5. Adjust Operations in \"model.cpp\" file"
   ]
  },
  {
   "cell_type": "markdown",
   "metadata": {},
   "source": [
    "### Feed Forward Neural Networks (fully connected)"
   ]
  },
  {
   "cell_type": "markdown",
   "metadata": {},
   "source": [
    "First, we convert the initial model in to a TensorFlow lite model and save it in a \".tflite\" file, to compare it to the optimized models later."
   ]
  },
  {
   "cell_type": "code",
   "execution_count": null,
   "metadata": {},
   "outputs": [
    {
     "name": "stdout",
     "output_type": "stream",
     "text": [
      "INFO:tensorflow:Assets written to: /tmp/tmpnatsp3bu/assets\n"
     ]
    },
    {
     "name": "stderr",
     "output_type": "stream",
     "text": [
      "INFO:tensorflow:Assets written to: /tmp/tmpnatsp3bu/assets\n"
     ]
    },
    {
     "name": "stdout",
     "output_type": "stream",
     "text": [
      "Saved artifact at '/tmp/tmpnatsp3bu'. The following endpoints are available:\n",
      "\n",
      "* Endpoint 'serve'\n",
      "  args_0 (POSITIONAL_ONLY): TensorSpec(shape=(None, 28, 28), dtype=tf.float32, name='input_layer_1')\n",
      "Output Type:\n",
      "  TensorSpec(shape=(None, 10), dtype=tf.float32, name=None)\n",
      "Captures:\n",
      "  140558996291280: TensorSpec(shape=(), dtype=tf.resource, name=None)\n",
      "  140560648174080: TensorSpec(shape=(), dtype=tf.resource, name=None)\n",
      "  140558586687760: TensorSpec(shape=(), dtype=tf.resource, name=None)\n",
      "  140560597112560: TensorSpec(shape=(), dtype=tf.resource, name=None)\n",
      "  140558587736336: TensorSpec(shape=(), dtype=tf.resource, name=None)\n",
      "  140559523631824: TensorSpec(shape=(), dtype=tf.resource, name=None)\n"
     ]
    },
    {
     "name": "stderr",
     "output_type": "stream",
     "text": [
      "/home/nils03/.local/lib/python3.10/site-packages/tensorflow/lite/python/convert.py:997: UserWarning: Statistics for quantized inputs were expected, but not specified; continuing anyway.\n",
      "  warnings.warn(\n",
      "W0000 00:00:1733575601.607336    7781 tf_tfl_flatbuffer_helpers.cc:365] Ignored output_format.\n",
      "W0000 00:00:1733575601.608031    7781 tf_tfl_flatbuffer_helpers.cc:368] Ignored drop_control_dependency.\n",
      "2024-12-07 14:46:41.609746: I tensorflow/cc/saved_model/reader.cc:83] Reading SavedModel from: /tmp/tmpnatsp3bu\n",
      "2024-12-07 14:46:41.610652: I tensorflow/cc/saved_model/reader.cc:52] Reading meta graph with tags { serve }\n",
      "2024-12-07 14:46:41.610669: I tensorflow/cc/saved_model/reader.cc:147] Reading SavedModel debug info (if present) from: /tmp/tmpnatsp3bu\n",
      "2024-12-07 14:46:41.617032: I tensorflow/cc/saved_model/loader.cc:236] Restoring SavedModel bundle.\n",
      "2024-12-07 14:46:41.652618: I tensorflow/cc/saved_model/loader.cc:220] Running initialization op on SavedModel bundle at path: /tmp/tmpnatsp3bu\n",
      "2024-12-07 14:46:41.663383: I tensorflow/cc/saved_model/loader.cc:466] SavedModel load for tags { serve }; Status: success: OK. Took 53674 microseconds.\n",
      "fully_quantize: 0, inference_type: 6, input_inference_type: UINT8, output_inference_type: UINT8\n"
     ]
    }
   ],
   "source": [
    "initial_model = load_model(\"../HW2/models/initial_model.keras\") # put model somewhere else\n",
    "\n",
    "# Converting a tf.Keras model to a TensorFlow Lite model.\n",
    "converter = tf.lite.TFLiteConverter.from_keras_model(initial_model)\n",
    "converter.optimizations = [tf.lite.Optimize.DEFAULT]\n",
    "\n",
    "def representative_data_gen():\n",
    "    random_indices = np.random.choice(x_train.shape[0], 1000, replace=False)\n",
    "    \n",
    "    for i in range(1000):  # Use 100 samples for quantization\n",
    "        # Yield one sample at a time, reshaped to match the model input shape\n",
    "        yield [x_train[i].astype(\"float32\").reshape(1, 28, 28)]\n",
    "\n",
    "converter.representative_dataset = representative_data_gen\n",
    "converter.target_spec.supported_ops = [tf.lite.OpsSet.TFLITE_BUILTINS_INT8]\n",
    "converter.inference_input_type = tf.uint8  # Input type set to uint8\n",
    "converter.inference_output_type = tf.uint8  # Output type set to uint8\n",
    "\n",
    "tflite_model = converter.convert()\n",
    "\n",
    "# Save in .tflite file\n",
    "with open('models/initial_model.tflite', 'wb') as f:\n",
    "    f.write(tflite_model)"
   ]
  },
  {
   "cell_type": "markdown",
   "metadata": {},
   "source": [
    "Predictions with this model where very unstable with probabilities very evenly distributed over the digits. A more in depth investigation of this is provided in the paper."
   ]
  },
  {
   "cell_type": "markdown",
   "metadata": {},
   "source": [
    "In the Initial Model used above, the Output Layer didn't use the Softmax activation function, therefore probabilities didn't add up to 100%. This issue was fixed in the next test for the initial model, let's see if the performance is more stable now."
   ]
  },
  {
   "cell_type": "code",
   "execution_count": 51,
   "metadata": {},
   "outputs": [
    {
     "data": {
      "image/png": "[encoded data removed]",
      "text/plain": [
       "<Figure size 640x480 with 1 Axes>"
      ]
     },
     "metadata": {},
     "output_type": "display_data"
    },
    {
     "name": "stdout",
     "output_type": "stream",
     "text": [
      "\u001b[1m1875/1875\u001b[0m \u001b[32m━━━━━━━━━━━━━━━━━━━━\u001b[0m\u001b[37m\u001b[0m \u001b[1m5s\u001b[0m 3ms/step - accuracy: 0.9933 - loss: 0.0209 - val_accuracy: 0.9785 - val_loss: 0.0940\n",
      "INFO:tensorflow:Assets written to: /tmp/tmpmgmbg0tf/assets\n"
     ]
    },
    {
     "name": "stderr",
     "output_type": "stream",
     "text": [
      "INFO:tensorflow:Assets written to: /tmp/tmpmgmbg0tf/assets\n"
     ]
    },
    {
     "name": "stdout",
     "output_type": "stream",
     "text": [
      "Saved artifact at '/tmp/tmpmgmbg0tf'. The following endpoints are available:\n",
      "\n",
      "* Endpoint 'serve'\n",
      "  args_0 (POSITIONAL_ONLY): TensorSpec(shape=(None, 28, 28), dtype=tf.float32, name='keras_tensor_1074')\n",
      "Output Type:\n",
      "  TensorSpec(shape=(None, 10), dtype=tf.float32, name=None)\n",
      "Captures:\n",
      "  140558587610208: TensorSpec(shape=(), dtype=tf.resource, name=None)\n",
      "  140558643138752: TensorSpec(shape=(), dtype=tf.resource, name=None)\n",
      "  140558643144032: TensorSpec(shape=(), dtype=tf.resource, name=None)\n",
      "  140558643142096: TensorSpec(shape=(), dtype=tf.resource, name=None)\n",
      "  140558643150368: TensorSpec(shape=(), dtype=tf.resource, name=None)\n",
      "  140558643200240: TensorSpec(shape=(), dtype=tf.resource, name=None)\n"
     ]
    },
    {
     "name": "stderr",
     "output_type": "stream",
     "text": [
      "/home/nils03/.local/lib/python3.10/site-packages/tensorflow/lite/python/convert.py:997: UserWarning: Statistics for quantized inputs were expected, but not specified; continuing anyway.\n",
      "  warnings.warn(\n",
      "W0000 00:00:1733578100.786407    7781 tf_tfl_flatbuffer_helpers.cc:365] Ignored output_format.\n",
      "W0000 00:00:1733578100.786821    7781 tf_tfl_flatbuffer_helpers.cc:368] Ignored drop_control_dependency.\n",
      "2024-12-07 15:28:20.787264: I tensorflow/cc/saved_model/reader.cc:83] Reading SavedModel from: /tmp/tmpmgmbg0tf\n",
      "2024-12-07 15:28:20.787915: I tensorflow/cc/saved_model/reader.cc:52] Reading meta graph with tags { serve }\n",
      "2024-12-07 15:28:20.787928: I tensorflow/cc/saved_model/reader.cc:147] Reading SavedModel debug info (if present) from: /tmp/tmpmgmbg0tf\n",
      "2024-12-07 15:28:20.794749: I tensorflow/cc/saved_model/loader.cc:236] Restoring SavedModel bundle.\n",
      "2024-12-07 15:28:20.834255: I tensorflow/cc/saved_model/loader.cc:220] Running initialization op on SavedModel bundle at path: /tmp/tmpmgmbg0tf\n",
      "2024-12-07 15:28:20.843955: I tensorflow/cc/saved_model/loader.cc:466] SavedModel load for tags { serve }; Status: success: OK. Took 56672 microseconds.\n",
      "fully_quantize: 0, inference_type: 6, input_inference_type: UINT8, output_inference_type: UINT8\n"
     ]
    }
   ],
   "source": [
    "from tensorflow import keras\n",
    "from keras.models import Sequential\n",
    "from keras.layers import Flatten, Dense, Dropout\n",
    "\n",
    "new_initial_model = Sequential()\n",
    "new_initial_model.add(Flatten(input_shape=(28, 28)))\n",
    "new_initial_model.add(Dense(80, activation='elu'))\n",
    "new_initial_model.add(Dense(60, activation='elu'))\n",
    "new_initial_model.add(Dropout(0.2))\n",
    "new_initial_model.add(Dense(10, activation='softmax'))    # no softmax, MISTAKE\n",
    "\n",
    "#### Trainiing ####\n",
    "EarlyStopping = keras.callbacks.EarlyStopping(monitor='val_loss', patience=10, restore_best_weights=True)\n",
    "loss_fn = tf.keras.losses.SparseCategoricalCrossentropy(from_logits=True)\n",
    "\n",
    "new_initial_model.compile(optimizer='adam', loss=loss_fn, metrics=['accuracy'])\n",
    "new_initial_model.fit(x_train, y_train, epochs=50,\n",
    "          callbacks = [plot_losses, EarlyStopping],\n",
    "          validation_data = [x_test, y_test],)\n",
    "\n",
    "\n",
    "#### Converting ####\n",
    "# Converting a tf.Keras model to a TensorFlow Lite model.\n",
    "converter = tf.lite.TFLiteConverter.from_keras_model(new_initial_model)\n",
    "converter.optimizations = [tf.lite.Optimize.DEFAULT]\n",
    "\n",
    "def representative_data_gen():\n",
    "    random_indices = np.random.choice(x_train.shape[0], 1000, replace=False)\n",
    "    \n",
    "    for i in range(1000):  # Use 100 samples for quantization\n",
    "        # Yield one sample at a time, reshaped to match the model input shape\n",
    "        yield [x_train[i].astype(\"float32\").reshape(1, 28, 28)]\n",
    "\n",
    "converter.representative_dataset = representative_data_gen\n",
    "converter.target_spec.supported_ops = [tf.lite.OpsSet.TFLITE_BUILTINS_INT8]\n",
    "converter.inference_input_type = tf.uint8  # Input type set to uint8\n",
    "converter.inference_output_type = tf.uint8  # Output type set to uint8\n",
    "\n",
    "tflite_model = converter.convert()\n",
    "\n",
    "# Save in .tflite file\n",
    "with open('models/new_initial_model.tflite', 'wb') as f:\n",
    "    f.write(tflite_model)"
   ]
  },
  {
   "cell_type": "markdown",
   "metadata": {},
   "source": [
    "Results for this model were slightly more stable, however, overall performance was still very poor with still evenly distributed probabilities over the digits. Therefore, this model shows poor generalization behavior or custom handwritten digits."
   ]
  },
  {
   "cell_type": "markdown",
   "metadata": {},
   "source": [
    "Let's see if a Feed Forward Neural Network with optimized Architecture performs better. For this we also have a already trained model."
   ]
  },
  {
   "cell_type": "code",
   "execution_count": null,
   "metadata": {},
   "outputs": [],
   "source": [
    "optimized_architecture_model = load_model(\"../HW2/models/initial_model.keras\") # put model somewhere else\n",
    "\n",
    "# Converting a tf.Keras model to a TensorFlow Lite model.\n",
    "converter = tf.lite.TFLiteConverter.from_keras_model(optimized_architecture_model)\n",
    "converter.optimizations = [tf.lite.Optimize.DEFAULT]\n",
    "\n",
    "def representative_data_gen():\n",
    "    random_indices = np.random.choice(x_train.shape[0], 1000, replace=False)\n",
    "    \n",
    "    for i in range(1000):  # Use 100 samples for quantization\n",
    "        # Yield one sample at a time, reshaped to match the model input shape\n",
    "        yield [x_train[i].astype(\"float32\").reshape(1, 28, 28)]\n",
    "\n",
    "converter.representative_dataset = representative_data_gen\n",
    "converter.target_spec.supported_ops = [tf.lite.OpsSet.TFLITE_BUILTINS_INT8]\n",
    "converter.inference_input_type = tf.uint8  # Input type set to uint8\n",
    "converter.inference_output_type = tf.uint8  # Output type set to uint8\n",
    "\n",
    "tflite_model = converter.convert()\n",
    "\n",
    "# Save in .tflite file\n",
    "with open('models/optimized_architecture_model.tflite', 'wb') as f:\n",
    "    f.write(tflite_model)"
   ]
  },
  {
   "cell_type": "markdown",
   "metadata": {},
   "source": []
  },
  {
   "cell_type": "markdown",
   "metadata": {},
   "source": [
    "### Convolutional Neural Networks (CNNs)"
   ]
  },
  {
   "cell_type": "code",
   "execution_count": null,
   "metadata": {},
   "outputs": [
    {
     "name": "stdout",
     "output_type": "stream",
     "text": [
      "INFO:tensorflow:Assets written to: /tmp/tmptubehsk_/assets\n"
     ]
    },
    {
     "name": "stderr",
     "output_type": "stream",
     "text": [
      "INFO:tensorflow:Assets written to: /tmp/tmptubehsk_/assets\n"
     ]
    },
    {
     "name": "stdout",
     "output_type": "stream",
     "text": [
      "Saved artifact at '/tmp/tmptubehsk_'. The following endpoints are available:\n",
      "\n",
      "* Endpoint 'serve'\n",
      "  args_0 (POSITIONAL_ONLY): TensorSpec(shape=(None, 28, 28, 1), dtype=tf.float32, name='input_layer_6')\n",
      "Output Type:\n",
      "  TensorSpec(shape=(None, 10), dtype=tf.float32, name=None)\n",
      "Captures:\n",
      "  140559008147136: TensorSpec(shape=(), dtype=tf.resource, name=None)\n",
      "  140559008151712: TensorSpec(shape=(), dtype=tf.resource, name=None)\n",
      "  140559010165008: TensorSpec(shape=(), dtype=tf.resource, name=None)\n",
      "  140559010158496: TensorSpec(shape=(), dtype=tf.resource, name=None)\n",
      "  140559008140096: TensorSpec(shape=(), dtype=tf.resource, name=None)\n",
      "  140559010163776: TensorSpec(shape=(), dtype=tf.resource, name=None)\n",
      "  140559010165888: TensorSpec(shape=(), dtype=tf.resource, name=None)\n",
      "  140559010163424: TensorSpec(shape=(), dtype=tf.resource, name=None)\n",
      "  140559010153040: TensorSpec(shape=(), dtype=tf.resource, name=None)\n",
      "  140559010161136: TensorSpec(shape=(), dtype=tf.resource, name=None)\n",
      "  140559010168528: TensorSpec(shape=(), dtype=tf.resource, name=None)\n",
      "  140559010165536: TensorSpec(shape=(), dtype=tf.resource, name=None)\n",
      "  140559010162720: TensorSpec(shape=(), dtype=tf.resource, name=None)\n",
      "  140559008339872: TensorSpec(shape=(), dtype=tf.resource, name=None)\n",
      "  140559008342512: TensorSpec(shape=(), dtype=tf.resource, name=None)\n",
      "  140559008334416: TensorSpec(shape=(), dtype=tf.resource, name=None)\n",
      "  140559008334592: TensorSpec(shape=(), dtype=tf.resource, name=None)\n",
      "  140559008340224: TensorSpec(shape=(), dtype=tf.resource, name=None)\n",
      "  140559008334064: TensorSpec(shape=(), dtype=tf.resource, name=None)\n",
      "  140559005800528: TensorSpec(shape=(), dtype=tf.resource, name=None)\n",
      "  140559005794896: TensorSpec(shape=(), dtype=tf.resource, name=None)\n",
      "  140559005801584: TensorSpec(shape=(), dtype=tf.resource, name=None)\n",
      "  140559005799296: TensorSpec(shape=(), dtype=tf.resource, name=None)\n",
      "  140559005797536: TensorSpec(shape=(), dtype=tf.resource, name=None)\n",
      "  140559005806160: TensorSpec(shape=(), dtype=tf.resource, name=None)\n",
      "  140559005803168: TensorSpec(shape=(), dtype=tf.resource, name=None)\n",
      "  140559005805280: TensorSpec(shape=(), dtype=tf.resource, name=None)\n",
      "  140559005807216: TensorSpec(shape=(), dtype=tf.resource, name=None)\n",
      "  140559005805632: TensorSpec(shape=(), dtype=tf.resource, name=None)\n",
      "  140559005804400: TensorSpec(shape=(), dtype=tf.resource, name=None)\n",
      "  140559004597440: TensorSpec(shape=(), dtype=tf.resource, name=None)\n",
      "  140559004668096: TensorSpec(shape=(), dtype=tf.resource, name=None)\n",
      "  140559004666688: TensorSpec(shape=(), dtype=tf.resource, name=None)\n",
      "  140559004670560: TensorSpec(shape=(), dtype=tf.resource, name=None)\n",
      "  140559004668272: TensorSpec(shape=(), dtype=tf.resource, name=None)\n",
      "  140559004667392: TensorSpec(shape=(), dtype=tf.resource, name=None)\n",
      "  140559004675488: TensorSpec(shape=(), dtype=tf.resource, name=None)\n",
      "  140559004673552: TensorSpec(shape=(), dtype=tf.resource, name=None)\n",
      "  140559004670208: TensorSpec(shape=(), dtype=tf.resource, name=None)\n",
      "  140559004677952: TensorSpec(shape=(), dtype=tf.resource, name=None)\n",
      "  140559004675664: TensorSpec(shape=(), dtype=tf.resource, name=None)\n",
      "  140559004674784: TensorSpec(shape=(), dtype=tf.resource, name=None)\n",
      "  140559004678128: TensorSpec(shape=(), dtype=tf.resource, name=None)\n",
      "  140559519451968: TensorSpec(shape=(), dtype=tf.resource, name=None)\n",
      "  140559519450560: TensorSpec(shape=(), dtype=tf.resource, name=None)\n",
      "  140559519454432: TensorSpec(shape=(), dtype=tf.resource, name=None)\n",
      "  140559519452144: TensorSpec(shape=(), dtype=tf.resource, name=None)\n",
      "  140559519451264: TensorSpec(shape=(), dtype=tf.resource, name=None)\n",
      "  140559519459360: TensorSpec(shape=(), dtype=tf.resource, name=None)\n",
      "  140559519457424: TensorSpec(shape=(), dtype=tf.resource, name=None)\n",
      "  140559519454080: TensorSpec(shape=(), dtype=tf.resource, name=None)\n",
      "  140559519461824: TensorSpec(shape=(), dtype=tf.resource, name=None)\n",
      "  140559519459536: TensorSpec(shape=(), dtype=tf.resource, name=None)\n",
      "  140559519458656: TensorSpec(shape=(), dtype=tf.resource, name=None)\n",
      "  140559519464816: TensorSpec(shape=(), dtype=tf.resource, name=None)\n",
      "  140559519462000: TensorSpec(shape=(), dtype=tf.resource, name=None)\n",
      "  140559002026928: TensorSpec(shape=(), dtype=tf.resource, name=None)\n",
      "  140559002029920: TensorSpec(shape=(), dtype=tf.resource, name=None)\n",
      "  140559002027808: TensorSpec(shape=(), dtype=tf.resource, name=None)\n",
      "  140559002026752: TensorSpec(shape=(), dtype=tf.resource, name=None)\n",
      "  140559002034848: TensorSpec(shape=(), dtype=tf.resource, name=None)\n",
      "  140559002032912: TensorSpec(shape=(), dtype=tf.resource, name=None)\n",
      "  140559002029568: TensorSpec(shape=(), dtype=tf.resource, name=None)\n",
      "  140559002037312: TensorSpec(shape=(), dtype=tf.resource, name=None)\n",
      "  140559002035024: TensorSpec(shape=(), dtype=tf.resource, name=None)\n",
      "  140559002034144: TensorSpec(shape=(), dtype=tf.resource, name=None)\n",
      "  140559002040304: TensorSpec(shape=(), dtype=tf.resource, name=None)\n",
      "  140559002041008: TensorSpec(shape=(), dtype=tf.resource, name=None)\n",
      "  140559010661824: TensorSpec(shape=(), dtype=tf.resource, name=None)\n",
      "  140559010662000: TensorSpec(shape=(), dtype=tf.resource, name=None)\n",
      "  140559010661120: TensorSpec(shape=(), dtype=tf.resource, name=None)\n",
      "  140559010660944: TensorSpec(shape=(), dtype=tf.resource, name=None)\n",
      "  140559010664288: TensorSpec(shape=(), dtype=tf.resource, name=None)\n",
      "  140559010665168: TensorSpec(shape=(), dtype=tf.resource, name=None)\n",
      "  140559010663584: TensorSpec(shape=(), dtype=tf.resource, name=None)\n",
      "  140559010669392: TensorSpec(shape=(), dtype=tf.resource, name=None)\n",
      "  140559010667104: TensorSpec(shape=(), dtype=tf.resource, name=None)\n",
      "  140559010665696: TensorSpec(shape=(), dtype=tf.resource, name=None)\n",
      "  140559010669216: TensorSpec(shape=(), dtype=tf.resource, name=None)\n",
      "  140559010778624: TensorSpec(shape=(), dtype=tf.resource, name=None)\n"
     ]
    },
    {
     "name": "stderr",
     "output_type": "stream",
     "text": [
      "/home/nils03/.local/lib/python3.10/site-packages/tensorflow/lite/python/convert.py:997: UserWarning: Statistics for quantized inputs were expected, but not specified; continuing anyway.\n",
      "  warnings.warn(\n",
      "W0000 00:00:1733489651.767591    7781 tf_tfl_flatbuffer_helpers.cc:365] Ignored output_format.\n",
      "W0000 00:00:1733489651.767648    7781 tf_tfl_flatbuffer_helpers.cc:368] Ignored drop_control_dependency.\n",
      "2024-12-06 14:54:11.767870: I tensorflow/cc/saved_model/reader.cc:83] Reading SavedModel from: /tmp/tmptubehsk_\n",
      "2024-12-06 14:54:11.772464: I tensorflow/cc/saved_model/reader.cc:52] Reading meta graph with tags { serve }\n",
      "2024-12-06 14:54:11.772504: I tensorflow/cc/saved_model/reader.cc:147] Reading SavedModel debug info (if present) from: /tmp/tmptubehsk_\n",
      "2024-12-06 14:54:11.822440: I tensorflow/cc/saved_model/loader.cc:236] Restoring SavedModel bundle.\n",
      "2024-12-06 14:54:12.172064: I tensorflow/cc/saved_model/loader.cc:220] Running initialization op on SavedModel bundle at path: /tmp/tmptubehsk_\n",
      "2024-12-06 14:54:12.264007: I tensorflow/cc/saved_model/loader.cc:466] SavedModel load for tags { serve }; Status: success: OK. Took 496142 microseconds.\n",
      "fully_quantize: 0, inference_type: 6, input_inference_type: UINT8, output_inference_type: UINT8\n"
     ]
    }
   ],
   "source": [
    "# Use mobile net from Home Assignment since the performance\n",
    "mobile_net_model = load_model(\"../HW2/models/mobile_net.keras\") # put model somewhere else\n",
    "\n",
    "# Converting a tf.Keras model to a TensorFlow Lite model.\n",
    "converter = tf.lite.TFLiteConverter.from_keras_model(mobile_net_model)\n",
    "converter.optimizations = [tf.lite.Optimize.DEFAULT]\n",
    "\n",
    "def representative_data_gen():\n",
    "    random_indices = np.random.choice(x_train.shape[0], 1000, replace=False)\n",
    "    \n",
    "    for i in range(1000):  # Use 100 samples for quantization\n",
    "        # Yield one sample at a time, reshaped to match the model input shape\n",
    "        yield [x_train[i].astype(\"float32\").reshape(-1, 28, 28, 1)]  # -1 -> find shape yourself\n",
    "\n",
    "# Convert the model to TensorFlow Lite format with quantization\n",
    "# converter = tf.lite.TFLiteConverter.from_keras_model(model)\n",
    "# converter.optimizations = [tf.lite.Optimize.DEFAULT]\n",
    "# converter.target_spec.supported_types = [tf.float32]\n",
    "converter.representative_dataset = representative_data_gen\n",
    "converter.target_spec.supported_ops = [tf.lite.OpsSet.TFLITE_BUILTINS_INT8]\n",
    "converter.inference_input_type = tf.uint8  # Input type set to uint8\n",
    "converter.inference_output_type = tf.uint8  # Output type set to uint8\n",
    "\n",
    "tflite_mobile_net = converter.convert()\n",
    "\n",
    "# Save in .tflite file\n",
    "with open('mobile_net.tflite', 'wb') as f:\n",
    "    f.write(tflite_mobile_net)"
   ]
  },
  {
   "cell_type": "markdown",
   "metadata": {},
   "source": [
    "The performance of the mobile net is significantly better on the handwritten digits, thus generalizing better than the initial feed forward network."
   ]
  },
  {
   "cell_type": "markdown",
   "metadata": {},
   "source": [
    "Let's also try the squeeze net which is more memory efficient, but also showed a worse performance in the last Home Assignment on the custom handwritten digits."
   ]
  },
  {
   "cell_type": "code",
   "execution_count": null,
   "metadata": {},
   "outputs": [
    {
     "name": "stdout",
     "output_type": "stream",
     "text": [
      "INFO:tensorflow:Assets written to: /tmp/tmp6ys8ya9c/assets\n"
     ]
    },
    {
     "name": "stderr",
     "output_type": "stream",
     "text": [
      "INFO:tensorflow:Assets written to: /tmp/tmp6ys8ya9c/assets\n"
     ]
    },
    {
     "name": "stdout",
     "output_type": "stream",
     "text": [
      "Saved artifact at '/tmp/tmp6ys8ya9c'. The following endpoints are available:\n",
      "\n",
      "* Endpoint 'serve'\n",
      "  args_0 (POSITIONAL_ONLY): TensorSpec(shape=(None, 28, 28, 1), dtype=tf.float32, name='input_layer_5')\n",
      "Output Type:\n",
      "  TensorSpec(shape=(None, 10), dtype=tf.float32, name=None)\n",
      "Captures:\n",
      "  140558993302176: TensorSpec(shape=(), dtype=tf.resource, name=None)\n",
      "  140558993297248: TensorSpec(shape=(), dtype=tf.resource, name=None)\n",
      "  140558993304816: TensorSpec(shape=(), dtype=tf.resource, name=None)\n",
      "  140558993360672: TensorSpec(shape=(), dtype=tf.resource, name=None)\n",
      "  140558993366304: TensorSpec(shape=(), dtype=tf.resource, name=None)\n",
      "  140558993363664: TensorSpec(shape=(), dtype=tf.resource, name=None)\n",
      "  140558993369296: TensorSpec(shape=(), dtype=tf.resource, name=None)\n",
      "  140558993369472: TensorSpec(shape=(), dtype=tf.resource, name=None)\n",
      "  140558993373520: TensorSpec(shape=(), dtype=tf.resource, name=None)\n",
      "  140558993374224: TensorSpec(shape=(), dtype=tf.resource, name=None)\n",
      "  140558993374400: TensorSpec(shape=(), dtype=tf.resource, name=None)\n",
      "  140558993344112: TensorSpec(shape=(), dtype=tf.resource, name=None)\n",
      "  140558993345520: TensorSpec(shape=(), dtype=tf.resource, name=None)\n",
      "  140558993345696: TensorSpec(shape=(), dtype=tf.resource, name=None)\n",
      "  140558993352736: TensorSpec(shape=(), dtype=tf.resource, name=None)\n",
      "  140558993350800: TensorSpec(shape=(), dtype=tf.resource, name=None)\n",
      "  140558993353088: TensorSpec(shape=(), dtype=tf.resource, name=None)\n",
      "  140558993353264: TensorSpec(shape=(), dtype=tf.resource, name=None)\n",
      "  140558993355904: TensorSpec(shape=(), dtype=tf.resource, name=None)\n",
      "  140558993356432: TensorSpec(shape=(), dtype=tf.resource, name=None)\n",
      "  140558993357136: TensorSpec(shape=(), dtype=tf.resource, name=None)\n",
      "  140558993081088: TensorSpec(shape=(), dtype=tf.resource, name=None)\n",
      "  140558993084080: TensorSpec(shape=(), dtype=tf.resource, name=None)\n",
      "  140558993084256: TensorSpec(shape=(), dtype=tf.resource, name=None)\n",
      "  140558993086720: TensorSpec(shape=(), dtype=tf.resource, name=None)\n",
      "  140558993086896: TensorSpec(shape=(), dtype=tf.resource, name=None)\n",
      "  140558993088480: TensorSpec(shape=(), dtype=tf.resource, name=None)\n",
      "  140558993091296: TensorSpec(shape=(), dtype=tf.resource, name=None)\n",
      "  140558993096400: TensorSpec(shape=(), dtype=tf.resource, name=None)\n",
      "  140558993093936: TensorSpec(shape=(), dtype=tf.resource, name=None)\n",
      "  140558993092000: TensorSpec(shape=(), dtype=tf.resource, name=None)\n",
      "  140558993034576: TensorSpec(shape=(), dtype=tf.resource, name=None)\n",
      "  140558993037040: TensorSpec(shape=(), dtype=tf.resource, name=None)\n",
      "  140558993032464: TensorSpec(shape=(), dtype=tf.resource, name=None)\n"
     ]
    },
    {
     "name": "stderr",
     "output_type": "stream",
     "text": [
      "/home/nils03/.local/lib/python3.10/site-packages/tensorflow/lite/python/convert.py:997: UserWarning: Statistics for quantized inputs were expected, but not specified; continuing anyway.\n",
      "  warnings.warn(\n",
      "W0000 00:00:1733501584.760591    7781 tf_tfl_flatbuffer_helpers.cc:365] Ignored output_format.\n",
      "W0000 00:00:1733501584.763820    7781 tf_tfl_flatbuffer_helpers.cc:368] Ignored drop_control_dependency.\n",
      "2024-12-06 18:13:04.770351: I tensorflow/cc/saved_model/reader.cc:83] Reading SavedModel from: /tmp/tmp6ys8ya9c\n",
      "2024-12-06 18:13:04.772824: I tensorflow/cc/saved_model/reader.cc:52] Reading meta graph with tags { serve }\n",
      "2024-12-06 18:13:04.772857: I tensorflow/cc/saved_model/reader.cc:147] Reading SavedModel debug info (if present) from: /tmp/tmp6ys8ya9c\n",
      "2024-12-06 18:13:04.807415: I tensorflow/cc/saved_model/loader.cc:236] Restoring SavedModel bundle.\n",
      "2024-12-06 18:13:05.056076: I tensorflow/cc/saved_model/loader.cc:220] Running initialization op on SavedModel bundle at path: /tmp/tmp6ys8ya9c\n",
      "2024-12-06 18:13:05.087641: I tensorflow/cc/saved_model/loader.cc:466] SavedModel load for tags { serve }; Status: success: OK. Took 317399 microseconds.\n",
      "fully_quantize: 0, inference_type: 6, input_inference_type: UINT8, output_inference_type: UINT8\n"
     ]
    }
   ],
   "source": [
    "# Use squeeze net from Home Assignment 2\n",
    "squeeze_net_model = load_model(\"../HW2/models/squeeze_net.keras\")\n",
    "\n",
    "# Converting a tf.Keras model to a TensorFlow Lite model.\n",
    "converter = tf.lite.TFLiteConverter.from_keras_model(squeeze_net_model)\n",
    "converter.optimizations = [tf.lite.Optimize.DEFAULT]\n",
    "\n",
    "def representative_data_gen():\n",
    "    random_indices = np.random.choice(x_train.shape[0], 1000, replace=False)\n",
    "    \n",
    "    for i in range(1000):  # Use 100 samples for quantization\n",
    "        # Yield one sample at a time, reshaped to match the model input shape\n",
    "        yield [x_train[i].astype(\"float32\").reshape(-1, 28, 28, 1)]  # -1 -> find shape yourself\n",
    "\n",
    "# Convert the model to TensorFlow Lite format with quantization\n",
    "# converter = tf.lite.TFLiteConverter.from_keras_model(model)\n",
    "# converter.optimizations = [tf.lite.Optimize.DEFAULT]\n",
    "# converter.target_spec.supported_types = [tf.float32]\n",
    "converter.representative_dataset = representative_data_gen\n",
    "converter.target_spec.supported_ops = [tf.lite.OpsSet.TFLITE_BUILTINS_INT8]\n",
    "converter.inference_input_type = tf.uint8  # Input type set to uint8\n",
    "converter.inference_output_type = tf.uint8  # Output type set to uint8\n",
    "\n",
    "tflite_mobile_net = converter.convert()\n",
    "\n",
    "# Save in .tflite file\n",
    "with open('models/squeeze_net.tflite', 'wb') as f:\n",
    "    f.write(tflite_mobile_net)"
   ]
  },
  {
   "cell_type": "markdown",
   "metadata": {},
   "source": [
    "**Compare** the size of the mobile net with quantization and without."
   ]
  },
  {
   "cell_type": "markdown",
   "metadata": {},
   "source": []
  },
  {
   "cell_type": "markdown",
   "metadata": {},
   "source": [
    "### New Architecture"
   ]
  },
  {
   "cell_type": "markdown",
   "metadata": {},
   "source": [
    "Let's also try the LeNet-5, proposed in the lecture. First we need build and train the model."
   ]
  },
  {
   "cell_type": "code",
   "execution_count": null,
   "metadata": {},
   "outputs": [
    {
     "data": {
      "image/png": "[encoded data removed]",
      "text/plain": [
       "<Figure size 640x480 with 1 Axes>"
      ]
     },
     "metadata": {},
     "output_type": "display_data"
    },
    {
     "name": "stdout",
     "output_type": "stream",
     "text": [
      "\u001b[1m1875/1875\u001b[0m \u001b[32m━━━━━━━━━━━━━━━━━━━━\u001b[0m\u001b[37m\u001b[0m \u001b[1m13s\u001b[0m 7ms/step - accuracy: 0.9964 - loss: 0.0129 - val_accuracy: 0.9867 - val_loss: 0.0440\n",
      "313/313 - 1s - 3ms/step - accuracy: 0.9867 - loss: 0.0440\n"
     ]
    },
    {
     "data": {
      "text/plain": [
       "[0.04396679252386093, 0.9866999983787537]"
      ]
     },
     "execution_count": 34,
     "metadata": {},
     "output_type": "execute_result"
    }
   ],
   "source": [
    "from lenet_functions import create_lenet\n",
    "\n",
    "lenet_model = create_lenet()\n",
    "\n",
    "loss_fn = keras.losses.SparseCategoricalCrossentropy(from_logits=True)\n",
    "lenet_model.compile(optimizer= 'adam', loss=loss_fn, metrics= ['accuracy'])\n",
    "\n",
    "lenet_model.summary()\n",
    "\n",
    "history_lenet_model = lenet_model.fit(x_train, y_train, \n",
    "                                      epochs=10, # With an epoch number of greater than 10, the model already starts to overfit.\n",
    "                                      validation_data=[x_test, y_test], \n",
    "                                      callbacks=[plot_losses])\n",
    "\n",
    "lenet_model.evaluate(x_test, y_test, verbose=2)\n"
   ]
  },
  {
   "cell_type": "markdown",
   "metadata": {},
   "source": [
    "The Accuracy of the Lenet-5 Network on the test set is about the same as the mobile and squeeze net, which are also CNNs."
   ]
  },
  {
   "cell_type": "code",
   "execution_count": 54,
   "metadata": {},
   "outputs": [
    {
     "name": "stdout",
     "output_type": "stream",
     "text": [
      "Inference Time Lenet-5: 0.6013665080070496 s\n",
      "Model Size Lenet-5: 0.7513465881347656 MB\n"
     ]
    }
   ],
   "source": [
    "import sys\n",
    "import os\n",
    "\n",
    "# Add the parent directory to sys.path\n",
    "sys.path.append(os.path.abspath(\"..\"))\n",
    "\n",
    "from HW2.functions import determine_model_size, measure_inference_time\n",
    "\n",
    "model_inference_time = measure_inference_time(model, x_test)\n",
    "print(f\"Inference Time Lenet-5: {model_inference_time} s\")\n",
    "\n",
    "lenet_model.save(\"models/lenet.keras\")\n",
    "\n",
    "model_size = determine_model_size(\"models/lenet.keras\")\n",
    "\n",
    "print(f\"Model Size Lenet-5: {model_size} MB\")\n"
   ]
  },
  {
   "cell_type": "markdown",
   "metadata": {},
   "source": [
    "Compared to the mobile and squeeze net however, the lenet-5 net shows a significantly faster inference speed, since the proposed network is also significantly less complex while preserving the accuracy."
   ]
  },
  {
   "cell_type": "markdown",
   "metadata": {},
   "source": [
    "Now we convert the model with Tensorflow LiteRT."
   ]
  },
  {
   "cell_type": "code",
   "execution_count": 35,
   "metadata": {},
   "outputs": [
    {
     "name": "stdout",
     "output_type": "stream",
     "text": [
      "INFO:tensorflow:Assets written to: /tmp/tmpajfbyu0y/assets\n"
     ]
    },
    {
     "name": "stderr",
     "output_type": "stream",
     "text": [
      "INFO:tensorflow:Assets written to: /tmp/tmpajfbyu0y/assets\n"
     ]
    },
    {
     "name": "stdout",
     "output_type": "stream",
     "text": [
      "Saved artifact at '/tmp/tmpajfbyu0y'. The following endpoints are available:\n",
      "\n",
      "* Endpoint 'serve'\n",
      "  args_0 (POSITIONAL_ONLY): TensorSpec(shape=(None, 28, 28, 1), dtype=tf.float32, name='keras_tensor_955')\n",
      "Output Type:\n",
      "  TensorSpec(shape=(None, 10), dtype=tf.float32, name=None)\n",
      "Captures:\n",
      "  140558996287936: TensorSpec(shape=(), dtype=tf.resource, name=None)\n",
      "  140558600237152: TensorSpec(shape=(), dtype=tf.resource, name=None)\n",
      "  140558600411392: TensorSpec(shape=(), dtype=tf.resource, name=None)\n",
      "  140558600409456: TensorSpec(shape=(), dtype=tf.resource, name=None)\n",
      "  140558600406112: TensorSpec(shape=(), dtype=tf.resource, name=None)\n",
      "  140558600536480: TensorSpec(shape=(), dtype=tf.resource, name=None)\n",
      "  140558600540176: TensorSpec(shape=(), dtype=tf.resource, name=None)\n",
      "  140558600541584: TensorSpec(shape=(), dtype=tf.resource, name=None)\n",
      "  140558600544400: TensorSpec(shape=(), dtype=tf.resource, name=None)\n",
      "  140558600545808: TensorSpec(shape=(), dtype=tf.resource, name=None)\n"
     ]
    },
    {
     "name": "stderr",
     "output_type": "stream",
     "text": [
      "/home/nils03/.local/lib/python3.10/site-packages/tensorflow/lite/python/convert.py:997: UserWarning: Statistics for quantized inputs were expected, but not specified; continuing anyway.\n",
      "  warnings.warn(\n",
      "W0000 00:00:1733573049.393298    7781 tf_tfl_flatbuffer_helpers.cc:365] Ignored output_format.\n",
      "W0000 00:00:1733573049.393517    7781 tf_tfl_flatbuffer_helpers.cc:368] Ignored drop_control_dependency.\n",
      "2024-12-07 14:04:09.393983: I tensorflow/cc/saved_model/reader.cc:83] Reading SavedModel from: /tmp/tmpajfbyu0y\n",
      "2024-12-07 14:04:09.395108: I tensorflow/cc/saved_model/reader.cc:52] Reading meta graph with tags { serve }\n",
      "2024-12-07 14:04:09.395130: I tensorflow/cc/saved_model/reader.cc:147] Reading SavedModel debug info (if present) from: /tmp/tmpajfbyu0y\n",
      "2024-12-07 14:04:09.406383: I tensorflow/cc/saved_model/loader.cc:236] Restoring SavedModel bundle.\n",
      "2024-12-07 14:04:09.457583: I tensorflow/cc/saved_model/loader.cc:220] Running initialization op on SavedModel bundle at path: /tmp/tmpajfbyu0y\n",
      "2024-12-07 14:04:09.468893: I tensorflow/cc/saved_model/loader.cc:466] SavedModel load for tags { serve }; Status: success: OK. Took 74915 microseconds.\n",
      "fully_quantize: 0, inference_type: 6, input_inference_type: UINT8, output_inference_type: UINT8\n"
     ]
    }
   ],
   "source": [
    "# Converting a tf.Keras model to a TensorFlow Lite model.\n",
    "converter = tf.lite.TFLiteConverter.from_keras_model(lenet_model)\n",
    "converter.optimizations = [tf.lite.Optimize.DEFAULT]\n",
    "\n",
    "def representative_data_gen():\n",
    "    mnist = tf.keras.datasets.mnist\n",
    "\n",
    "    random_indices = np.random.choice(x_train.shape[0], 1000, replace=False)\n",
    "    \n",
    "    for i in range(1000):  # Use 100 samples for quantization\n",
    "        # Yield one sample at a time, reshaped to match the model input shape\n",
    "        yield [x_train[i].astype(\"float32\").reshape(-1, 28, 28, 1)]  # -1 -> find shape yourself\n",
    "\n",
    "# Convert the model to TensorFlow Lite format with quantization\n",
    "# converter = tf.lite.TFLiteConverter.from_keras_model(model)\n",
    "# converter.optimizations = [tf.lite.Optimize.DEFAULT]\n",
    "# converter.target_spec.supported_types = [tf.float32]\n",
    "converter.representative_dataset = representative_data_gen\n",
    "converter.target_spec.supported_ops = [tf.lite.OpsSet.TFLITE_BUILTINS_INT8]\n",
    "converter.inference_input_type = tf.uint8  # Input type set to uint8\n",
    "converter.inference_output_type = tf.uint8  # Output type set to uint8\n",
    "\n",
    "tflite_mobile_net = converter.convert()\n",
    "\n",
    "# Save in .tflite file\n",
    "with open('models/lenet.tflite', 'wb') as f:\n",
    "    f.write(tflite_mobile_net)"
   ]
  },
  {
   "cell_type": "markdown",
   "metadata": {},
   "source": [
    "Let's also try the **Optimized Architecture** model from the previous Home Assignment. It's uncertain whether this model will work without any further optimization, because the model size is 6.5 MB."
   ]
  },
  {
   "cell_type": "code",
   "execution_count": 55,
   "metadata": {},
   "outputs": [
    {
     "name": "stdout",
     "output_type": "stream",
     "text": [
      "INFO:tensorflow:Assets written to: /tmp/tmpdu92cxd9/assets\n"
     ]
    },
    {
     "name": "stderr",
     "output_type": "stream",
     "text": [
      "INFO:tensorflow:Assets written to: /tmp/tmpdu92cxd9/assets\n"
     ]
    },
    {
     "name": "stdout",
     "output_type": "stream",
     "text": [
      "Saved artifact at '/tmp/tmpdu92cxd9'. The following endpoints are available:\n",
      "\n",
      "* Endpoint 'serve'\n",
      "  args_0 (POSITIONAL_ONLY): TensorSpec(shape=(None, 28, 28, 1), dtype=tf.float32, name='input_layer_8')\n",
      "Output Type:\n",
      "  TensorSpec(shape=(None, 10), dtype=tf.float32, name=None)\n",
      "Captures:\n",
      "  140559011333568: TensorSpec(shape=(), dtype=tf.resource, name=None)\n",
      "  140558600686400: TensorSpec(shape=(), dtype=tf.resource, name=None)\n",
      "  140559523711984: TensorSpec(shape=(), dtype=tf.resource, name=None)\n",
      "  140558989543728: TensorSpec(shape=(), dtype=tf.resource, name=None)\n",
      "  140559522534448: TensorSpec(shape=(), dtype=tf.resource, name=None)\n",
      "  140558989542672: TensorSpec(shape=(), dtype=tf.resource, name=None)\n",
      "  140558989544784: TensorSpec(shape=(), dtype=tf.resource, name=None)\n",
      "  140559004077920: TensorSpec(shape=(), dtype=tf.resource, name=None)\n"
     ]
    },
    {
     "name": "stderr",
     "output_type": "stream",
     "text": [
      "/home/nils03/.local/lib/python3.10/site-packages/tensorflow/lite/python/convert.py:997: UserWarning: Statistics for quantized inputs were expected, but not specified; continuing anyway.\n",
      "  warnings.warn(\n",
      "W0000 00:00:1733584147.929278    7781 tf_tfl_flatbuffer_helpers.cc:365] Ignored output_format.\n",
      "W0000 00:00:1733584147.932242    7781 tf_tfl_flatbuffer_helpers.cc:368] Ignored drop_control_dependency.\n",
      "2024-12-07 17:09:07.939315: I tensorflow/cc/saved_model/reader.cc:83] Reading SavedModel from: /tmp/tmpdu92cxd9\n",
      "2024-12-07 17:09:07.941784: I tensorflow/cc/saved_model/reader.cc:52] Reading meta graph with tags { serve }\n",
      "2024-12-07 17:09:07.941799: I tensorflow/cc/saved_model/reader.cc:147] Reading SavedModel debug info (if present) from: /tmp/tmpdu92cxd9\n",
      "2024-12-07 17:09:07.960009: I tensorflow/cc/saved_model/loader.cc:236] Restoring SavedModel bundle.\n",
      "2024-12-07 17:09:08.068082: I tensorflow/cc/saved_model/loader.cc:220] Running initialization op on SavedModel bundle at path: /tmp/tmpdu92cxd9\n",
      "2024-12-07 17:09:08.078153: I tensorflow/cc/saved_model/loader.cc:466] SavedModel load for tags { serve }; Status: success: OK. Took 138914 microseconds.\n",
      "fully_quantize: 0, inference_type: 6, input_inference_type: UINT8, output_inference_type: UINT8\n"
     ]
    }
   ],
   "source": [
    "# test model\n",
    "optimized_architecture_model = load_model(\"../HW2/models/optimized_architecture.keras\") # put model somewhere else\n",
    "\n",
    "# Converting a tf.Keras model to a TensorFlow Lite model.\n",
    "converter = tf.lite.TFLiteConverter.from_keras_model(optimized_architecture_model)\n",
    "converter.optimizations = [tf.lite.Optimize.DEFAULT]\n",
    "\n",
    "def representative_data_gen():\n",
    "    random_indices = np.random.choice(x_train.shape[0], 1000, replace=False)\n",
    "    \n",
    "    for i in range(1000):  # Use 100 samples for quantization\n",
    "        # Yield one sample at a time, reshaped to match the model input shape\n",
    "        yield [x_train[i].astype(\"float32\").reshape(1, 28, 28)]\n",
    "\n",
    "converter.representative_dataset = representative_data_gen\n",
    "converter.target_spec.supported_ops = [tf.lite.OpsSet.TFLITE_BUILTINS_INT8]\n",
    "converter.inference_input_type = tf.uint8  # Input type set to uint8\n",
    "converter.inference_output_type = tf.uint8  # Output type set to uint8\n",
    "\n",
    "tflite_model = converter.convert()\n",
    "\n",
    "# Save in .tflite file\n",
    "with open('models/optimized_architecture_model.tflite', 'wb') as f:\n",
    "    f.write(tflite_model)"
   ]
  },
  {
   "cell_type": "markdown",
   "metadata": {},
   "source": [
    "### Compare all models "
   ]
  },
  {
   "cell_type": "code",
   "execution_count": 74,
   "metadata": {},
   "outputs": [
    {
     "data": {
      "text/html": [
       "<div>\n",
       "<style scoped>\n",
       "    .dataframe tbody tr th:only-of-type {\n",
       "        vertical-align: middle;\n",
       "    }\n",
       "\n",
       "    .dataframe tbody tr th {\n",
       "        vertical-align: top;\n",
       "    }\n",
       "\n",
       "    .dataframe thead th {\n",
       "        text-align: right;\n",
       "    }\n",
       "</style>\n",
       "<table border=\"1\" class=\"dataframe\">\n",
       "  <thead>\n",
       "    <tr style=\"text-align: right;\">\n",
       "      <th></th>\n",
       "      <th>initial_model</th>\n",
       "      <th>optimized_architecture</th>\n",
       "      <th>mobile_net</th>\n",
       "      <th>squeeze_net</th>\n",
       "      <th>lenet</th>\n",
       "    </tr>\n",
       "  </thead>\n",
       "  <tbody>\n",
       "    <tr>\n",
       "      <th>0</th>\n",
       "      <td>0</td>\n",
       "      <td>4</td>\n",
       "      <td>6</td>\n",
       "      <td>5</td>\n",
       "      <td>5</td>\n",
       "    </tr>\n",
       "    <tr>\n",
       "      <th>1</th>\n",
       "      <td>2</td>\n",
       "      <td>2</td>\n",
       "      <td>6</td>\n",
       "      <td>6</td>\n",
       "      <td>6</td>\n",
       "    </tr>\n",
       "    <tr>\n",
       "      <th>2</th>\n",
       "      <td>0</td>\n",
       "      <td>3</td>\n",
       "      <td>6</td>\n",
       "      <td>6</td>\n",
       "      <td>5</td>\n",
       "    </tr>\n",
       "    <tr>\n",
       "      <th>3</th>\n",
       "      <td>0</td>\n",
       "      <td>5</td>\n",
       "      <td>6</td>\n",
       "      <td>6</td>\n",
       "      <td>6</td>\n",
       "    </tr>\n",
       "    <tr>\n",
       "      <th>4</th>\n",
       "      <td>2</td>\n",
       "      <td>5</td>\n",
       "      <td>6</td>\n",
       "      <td>5</td>\n",
       "      <td>5</td>\n",
       "    </tr>\n",
       "    <tr>\n",
       "      <th>5</th>\n",
       "      <td>3</td>\n",
       "      <td>4</td>\n",
       "      <td>5</td>\n",
       "      <td>6</td>\n",
       "      <td>6</td>\n",
       "    </tr>\n",
       "    <tr>\n",
       "      <th>6</th>\n",
       "      <td>4</td>\n",
       "      <td>1</td>\n",
       "      <td>6</td>\n",
       "      <td>5</td>\n",
       "      <td>6</td>\n",
       "    </tr>\n",
       "    <tr>\n",
       "      <th>7</th>\n",
       "      <td>3</td>\n",
       "      <td>6</td>\n",
       "      <td>6</td>\n",
       "      <td>6</td>\n",
       "      <td>5</td>\n",
       "    </tr>\n",
       "    <tr>\n",
       "      <th>8</th>\n",
       "      <td>0</td>\n",
       "      <td>6</td>\n",
       "      <td>6</td>\n",
       "      <td>6</td>\n",
       "      <td>6</td>\n",
       "    </tr>\n",
       "    <tr>\n",
       "      <th>9</th>\n",
       "      <td>0</td>\n",
       "      <td>4</td>\n",
       "      <td>5</td>\n",
       "      <td>6</td>\n",
       "      <td>6</td>\n",
       "    </tr>\n",
       "  </tbody>\n",
       "</table>\n",
       "</div>"
      ],
      "text/plain": [
       "   initial_model  optimized_architecture  mobile_net  squeeze_net  lenet\n",
       "0              0                       4           6            5      5\n",
       "1              2                       2           6            6      6\n",
       "2              0                       3           6            6      5\n",
       "3              0                       5           6            6      6\n",
       "4              2                       5           6            5      5\n",
       "5              3                       4           5            6      6\n",
       "6              4                       1           6            5      6\n",
       "7              3                       6           6            6      5\n",
       "8              0                       6           6            6      6\n",
       "9              0                       4           5            6      6"
      ]
     },
     "metadata": {},
     "output_type": "display_data"
    }
   ],
   "source": [
    "import pandas as pd\n",
    "\n",
    "model_performances = pd.read_csv(\"model_performance.csv\", sep=\",\")\n",
    "\n",
    "display(model_performances)"
   ]
  },
  {
   "cell_type": "markdown",
   "metadata": {},
   "source": [
    "Now the accuracies for every digit for every model and the overall accuracies are calculated."
   ]
  },
  {
   "cell_type": "code",
   "execution_count": 82,
   "metadata": {},
   "outputs": [
    {
     "data": {
      "text/html": [
       "<div>\n",
       "<style scoped>\n",
       "    .dataframe tbody tr th:only-of-type {\n",
       "        vertical-align: middle;\n",
       "    }\n",
       "\n",
       "    .dataframe tbody tr th {\n",
       "        vertical-align: top;\n",
       "    }\n",
       "\n",
       "    .dataframe thead th {\n",
       "        text-align: right;\n",
       "    }\n",
       "</style>\n",
       "<table border=\"1\" class=\"dataframe\">\n",
       "  <thead>\n",
       "    <tr style=\"text-align: right;\">\n",
       "      <th></th>\n",
       "      <th>initial_model</th>\n",
       "      <th>optimized_architecture</th>\n",
       "      <th>mobile_net</th>\n",
       "      <th>squeeze_net</th>\n",
       "      <th>lenet</th>\n",
       "    </tr>\n",
       "  </thead>\n",
       "  <tbody>\n",
       "    <tr>\n",
       "      <th>0</th>\n",
       "      <td>0.000000</td>\n",
       "      <td>0.666667</td>\n",
       "      <td>1.000000</td>\n",
       "      <td>0.833333</td>\n",
       "      <td>0.833333</td>\n",
       "    </tr>\n",
       "    <tr>\n",
       "      <th>1</th>\n",
       "      <td>0.333333</td>\n",
       "      <td>0.333333</td>\n",
       "      <td>1.000000</td>\n",
       "      <td>1.000000</td>\n",
       "      <td>1.000000</td>\n",
       "    </tr>\n",
       "    <tr>\n",
       "      <th>2</th>\n",
       "      <td>0.000000</td>\n",
       "      <td>0.500000</td>\n",
       "      <td>1.000000</td>\n",
       "      <td>1.000000</td>\n",
       "      <td>0.833333</td>\n",
       "    </tr>\n",
       "    <tr>\n",
       "      <th>3</th>\n",
       "      <td>0.000000</td>\n",
       "      <td>0.833333</td>\n",
       "      <td>1.000000</td>\n",
       "      <td>1.000000</td>\n",
       "      <td>1.000000</td>\n",
       "    </tr>\n",
       "    <tr>\n",
       "      <th>4</th>\n",
       "      <td>0.333333</td>\n",
       "      <td>0.833333</td>\n",
       "      <td>1.000000</td>\n",
       "      <td>0.833333</td>\n",
       "      <td>0.833333</td>\n",
       "    </tr>\n",
       "    <tr>\n",
       "      <th>5</th>\n",
       "      <td>0.500000</td>\n",
       "      <td>0.666667</td>\n",
       "      <td>0.833333</td>\n",
       "      <td>1.000000</td>\n",
       "      <td>1.000000</td>\n",
       "    </tr>\n",
       "    <tr>\n",
       "      <th>6</th>\n",
       "      <td>0.666667</td>\n",
       "      <td>0.166667</td>\n",
       "      <td>1.000000</td>\n",
       "      <td>0.833333</td>\n",
       "      <td>1.000000</td>\n",
       "    </tr>\n",
       "    <tr>\n",
       "      <th>7</th>\n",
       "      <td>0.500000</td>\n",
       "      <td>1.000000</td>\n",
       "      <td>1.000000</td>\n",
       "      <td>1.000000</td>\n",
       "      <td>0.833333</td>\n",
       "    </tr>\n",
       "    <tr>\n",
       "      <th>8</th>\n",
       "      <td>0.000000</td>\n",
       "      <td>1.000000</td>\n",
       "      <td>1.000000</td>\n",
       "      <td>1.000000</td>\n",
       "      <td>1.000000</td>\n",
       "    </tr>\n",
       "    <tr>\n",
       "      <th>9</th>\n",
       "      <td>0.000000</td>\n",
       "      <td>0.666667</td>\n",
       "      <td>0.833333</td>\n",
       "      <td>1.000000</td>\n",
       "      <td>1.000000</td>\n",
       "    </tr>\n",
       "    <tr>\n",
       "      <th>Overall Accuracy</th>\n",
       "      <td>0.233333</td>\n",
       "      <td>0.666667</td>\n",
       "      <td>0.966667</td>\n",
       "      <td>0.950000</td>\n",
       "      <td>0.933333</td>\n",
       "    </tr>\n",
       "  </tbody>\n",
       "</table>\n",
       "</div>"
      ],
      "text/plain": [
       "                  initial_model  optimized_architecture  mobile_net  \\\n",
       "0                      0.000000                0.666667    1.000000   \n",
       "1                      0.333333                0.333333    1.000000   \n",
       "2                      0.000000                0.500000    1.000000   \n",
       "3                      0.000000                0.833333    1.000000   \n",
       "4                      0.333333                0.833333    1.000000   \n",
       "5                      0.500000                0.666667    0.833333   \n",
       "6                      0.666667                0.166667    1.000000   \n",
       "7                      0.500000                1.000000    1.000000   \n",
       "8                      0.000000                1.000000    1.000000   \n",
       "9                      0.000000                0.666667    0.833333   \n",
       "Overall Accuracy       0.233333                0.666667    0.966667   \n",
       "\n",
       "                  squeeze_net     lenet  \n",
       "0                    0.833333  0.833333  \n",
       "1                    1.000000  1.000000  \n",
       "2                    1.000000  0.833333  \n",
       "3                    1.000000  1.000000  \n",
       "4                    0.833333  0.833333  \n",
       "5                    1.000000  1.000000  \n",
       "6                    0.833333  1.000000  \n",
       "7                    1.000000  0.833333  \n",
       "8                    1.000000  1.000000  \n",
       "9                    1.000000  1.000000  \n",
       "Overall Accuracy     0.950000  0.933333  "
      ]
     },
     "metadata": {},
     "output_type": "display_data"
    }
   ],
   "source": [
    "def calc_overall_accuracy(model_performances):\n",
    "\n",
    "    accuracy_per_digit = pd.DataFrame()\n",
    "    overall_accuracies = {}\n",
    "\n",
    "    for model in model_performances.columns:\n",
    "        accuracy_per_digit[model] = model_performances[model] / 6\n",
    "        overall_accuracies[model] = model_performances[model].sum() / 60\n",
    "    \n",
    "    accuracy_per_digit.loc[\"Overall Accuracy\"] = overall_accuracies\n",
    "\n",
    "    return accuracy_per_digit\n",
    "\n",
    "accuracies = calc_overall_accuracy(model_performances)\n",
    "display(accuracies)"
   ]
  }
 ],
 "metadata": {
  "kernelspec": {
   "display_name": "Python 3",
   "language": "python",
   "name": "python3"
  },
  "language_info": {
   "codemirror_mode": {
    "name": "ipython",
    "version": 3
   },
   "file_extension": ".py",
   "mimetype": "text/x-python",
   "name": "python",
   "nbconvert_exporter": "python",
   "pygments_lexer": "ipython3",
   "version": "3.10.12"
  }
 },
 "nbformat": 4,
 "nbformat_minor": 2
}
